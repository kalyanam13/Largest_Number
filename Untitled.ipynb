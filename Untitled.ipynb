{
 "cells": [
  {
   "cell_type": "code",
   "execution_count": 1,
   "id": "a8349a20-9f0b-424a-91dc-ad81188a8944",
   "metadata": {},
   "outputs": [
    {
     "name": "stdout",
     "output_type": "stream",
     "text": [
      "The Sorted Array should be like this : [10, 20, 5, 6, 87, 23, 54, 36]\n"
     ]
    }
   ],
   "source": [
    "class Solution:\n",
    "    def SortedArray(self,nums):\n",
    "        shortest = nums[0]\n",
    "\n",
    "\n",
    "        for i in nums:\n",
    "            if nums[i]>nums[i+1]:\n",
    "                shortest = nums[i]\n",
    "\n",
    "            return shortest\n",
    "\n",
    "\n",
    "\n",
    "nums = [10,20, 5 , 6 , 87 , 23 , 54 , 36]\n",
    "s = Solution()\n",
    "print(\"The Sorted Array should be like this :\",nums)"
   ]
  },
  {
   "cell_type": "markdown",
   "id": "e9780be4-9111-4389-b62b-5e110c93881e",
   "metadata": {},
   "source": [
    "#### Second Largest Number :\n"
   ]
  },
  {
   "cell_type": "code",
   "execution_count": 6,
   "id": "94a51d45-88ed-4952-afc4-5f23ac59f92c",
   "metadata": {},
   "outputs": [
    {
     "name": "stdout",
     "output_type": "stream",
     "text": [
      "The Second Largest number is : 35\n"
     ]
    }
   ],
   "source": [
    "class Solution:\n",
    "    def SecondLargest(self,nums):\n",
    "        first = second = float('-inf')\n",
    "\n",
    "        for num in nums:\n",
    "            if num > first:\n",
    "                second = first\n",
    "                first = num\n",
    "\n",
    "            elif first > num > second:\n",
    "                second = num\n",
    "\n",
    "        return second if second != float('-inf') else -1\n",
    "                \n",
    "\n",
    "\n",
    "# driver code \n",
    "nums = [10,26,35,-12,-6,57,0,5,3,1]\n",
    "s = Solution()\n",
    "print(\"The Second Largest number is :\",s.SecondLargest(nums))\n"
   ]
  },
  {
   "cell_type": "markdown",
   "id": "7b9d00a9-2c84-42e1-a664-9def827d0c7b",
   "metadata": {},
   "source": [
    "#### LinearSearch"
   ]
  },
  {
   "cell_type": "code",
   "execution_count": 11,
   "id": "ff3b5fac-f2ab-42e9-9509-d0e429075312",
   "metadata": {},
   "outputs": [
    {
     "name": "stdout",
     "output_type": "stream",
     "text": [
      "The given target at the index number is : 3\n"
     ]
    }
   ],
   "source": [
    "class Solution:\n",
    "    def finding_index(self,nums,target):\n",
    "        index = 0\n",
    "\n",
    "        for num in nums:\n",
    "            if num == target:\n",
    "                return index\n",
    "\n",
    "            else :\n",
    "                index += 1\n",
    "\n",
    "        return -1\n",
    "\n",
    "\n",
    "# driver code\n",
    "nums = [10 , 23 , 2 , 6 , 21 , 84 , 65]\n",
    "target = 6\n",
    "s = Solution()\n",
    "print(\"The given target at the index number is :\",s.finding_index(nums,target))"
   ]
  },
  {
   "cell_type": "code",
   "execution_count": null,
   "id": "d963207d-90fd-4800-9417-23dac10e20b1",
   "metadata": {},
   "outputs": [],
   "source": []
  },
  {
   "cell_type": "code",
   "execution_count": null,
   "id": "2c99b8ae-b52a-45b1-947f-c473467ff13f",
   "metadata": {},
   "outputs": [],
   "source": []
  }
 ],
 "metadata": {
  "kernelspec": {
   "display_name": "Python 3 (ipykernel)",
   "language": "python",
   "name": "python3"
  },
  "language_info": {
   "codemirror_mode": {
    "name": "ipython",
    "version": 3
   },
   "file_extension": ".py",
   "mimetype": "text/x-python",
   "name": "python",
   "nbconvert_exporter": "python",
   "pygments_lexer": "ipython3",
   "version": "3.13.0"
  }
 },
 "nbformat": 4,
 "nbformat_minor": 5
}
